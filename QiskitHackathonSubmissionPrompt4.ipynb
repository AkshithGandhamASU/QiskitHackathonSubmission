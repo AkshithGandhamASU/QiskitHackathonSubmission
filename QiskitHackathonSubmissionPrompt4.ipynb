{
  "nbformat": 4,
  "nbformat_minor": 0,
  "metadata": {
    "colab": {
      "provenance": []
    },
    "kernelspec": {
      "name": "python3",
      "display_name": "Python 3"
    },
    "language_info": {
      "name": "python"
    }
  },
  "cells": [
    {
      "cell_type": "code",
      "execution_count": null,
      "metadata": {
        "colab": {
          "base_uri": "https://localhost:8080/"
        },
        "id": "U6nLFpuHox7O",
        "outputId": "ef6b63e7-01c2-43b3-beb9-386fec28db11"
      },
      "outputs": [
        {
          "output_type": "stream",
          "name": "stdout",
          "text": [
            "Requirement already satisfied: qiskit-ibm-runtime in /usr/local/lib/python3.12/dist-packages (0.43.1)\n",
            "Requirement already satisfied: qiskit-aer in /usr/local/lib/python3.12/dist-packages (0.17.2)\n",
            "Requirement already satisfied: qiskit_qasm3_import in /usr/local/lib/python3.12/dist-packages (0.6.0)\n",
            "Requirement already satisfied: qiskit[visualization] in /usr/local/lib/python3.12/dist-packages (2.2.2)\n",
            "Requirement already satisfied: rustworkx>=0.15.0 in /usr/local/lib/python3.12/dist-packages (from qiskit[visualization]) (0.17.1)\n",
            "Requirement already satisfied: numpy<3,>=1.17 in /usr/local/lib/python3.12/dist-packages (from qiskit[visualization]) (2.0.2)\n",
            "Requirement already satisfied: scipy>=1.5 in /usr/local/lib/python3.12/dist-packages (from qiskit[visualization]) (1.16.2)\n",
            "Requirement already satisfied: dill>=0.3 in /usr/local/lib/python3.12/dist-packages (from qiskit[visualization]) (0.3.8)\n",
            "Requirement already satisfied: stevedore>=3.0.0 in /usr/local/lib/python3.12/dist-packages (from qiskit[visualization]) (5.5.0)\n",
            "Requirement already satisfied: typing-extensions in /usr/local/lib/python3.12/dist-packages (from qiskit[visualization]) (4.15.0)\n",
            "Requirement already satisfied: matplotlib>=3.3 in /usr/local/lib/python3.12/dist-packages (from qiskit[visualization]) (3.10.0)\n",
            "Requirement already satisfied: pydot in /usr/local/lib/python3.12/dist-packages (from qiskit[visualization]) (3.0.4)\n",
            "Requirement already satisfied: Pillow>=4.2.1 in /usr/local/lib/python3.12/dist-packages (from qiskit[visualization]) (11.3.0)\n",
            "Requirement already satisfied: pylatexenc>=1.4 in /usr/local/lib/python3.12/dist-packages (from qiskit[visualization]) (2.10)\n",
            "Requirement already satisfied: seaborn>=0.9.0 in /usr/local/lib/python3.12/dist-packages (from qiskit[visualization]) (0.13.2)\n",
            "Requirement already satisfied: sympy>=1.3 in /usr/local/lib/python3.12/dist-packages (from qiskit[visualization]) (1.13.3)\n",
            "Requirement already satisfied: requests>=2.19 in /usr/local/lib/python3.12/dist-packages (from qiskit-ibm-runtime) (2.32.4)\n",
            "Requirement already satisfied: requests-ntlm>=1.1.0 in /usr/local/lib/python3.12/dist-packages (from qiskit-ibm-runtime) (1.3.0)\n",
            "Requirement already satisfied: urllib3>=1.21.1 in /usr/local/lib/python3.12/dist-packages (from qiskit-ibm-runtime) (2.5.0)\n",
            "Requirement already satisfied: python-dateutil>=2.8.0 in /usr/local/lib/python3.12/dist-packages (from qiskit-ibm-runtime) (2.9.0.post0)\n",
            "Requirement already satisfied: ibm-platform-services>=0.22.6 in /usr/local/lib/python3.12/dist-packages (from qiskit-ibm-runtime) (0.69.0)\n",
            "Requirement already satisfied: pydantic>=2.5.0 in /usr/local/lib/python3.12/dist-packages (from qiskit-ibm-runtime) (2.11.10)\n",
            "Requirement already satisfied: packaging in /usr/local/lib/python3.12/dist-packages (from qiskit-ibm-runtime) (25.0)\n",
            "Requirement already satisfied: psutil>=5 in /usr/local/lib/python3.12/dist-packages (from qiskit-aer) (5.9.5)\n",
            "Requirement already satisfied: openqasm3<2.0,>=0.4 in /usr/local/lib/python3.12/dist-packages (from openqasm3[parser]<2.0,>=0.4->qiskit_qasm3_import) (1.0.1)\n",
            "Requirement already satisfied: ibm_cloud_sdk_core<4.0.0,>=3.24.2 in /usr/local/lib/python3.12/dist-packages (from ibm-platform-services>=0.22.6->qiskit-ibm-runtime) (3.24.2)\n",
            "Requirement already satisfied: contourpy>=1.0.1 in /usr/local/lib/python3.12/dist-packages (from matplotlib>=3.3->qiskit[visualization]) (1.3.3)\n",
            "Requirement already satisfied: cycler>=0.10 in /usr/local/lib/python3.12/dist-packages (from matplotlib>=3.3->qiskit[visualization]) (0.12.1)\n",
            "Requirement already satisfied: fonttools>=4.22.0 in /usr/local/lib/python3.12/dist-packages (from matplotlib>=3.3->qiskit[visualization]) (4.60.1)\n",
            "Requirement already satisfied: kiwisolver>=1.3.1 in /usr/local/lib/python3.12/dist-packages (from matplotlib>=3.3->qiskit[visualization]) (1.4.9)\n",
            "Requirement already satisfied: pyparsing>=2.3.1 in /usr/local/lib/python3.12/dist-packages (from matplotlib>=3.3->qiskit[visualization]) (3.2.5)\n",
            "Requirement already satisfied: antlr4_python3_runtime<4.14,>=4.7 in /usr/local/lib/python3.12/dist-packages (from openqasm3[parser]<2.0,>=0.4->qiskit_qasm3_import) (4.9.3)\n",
            "Requirement already satisfied: annotated-types>=0.6.0 in /usr/local/lib/python3.12/dist-packages (from pydantic>=2.5.0->qiskit-ibm-runtime) (0.7.0)\n",
            "Requirement already satisfied: pydantic-core==2.33.2 in /usr/local/lib/python3.12/dist-packages (from pydantic>=2.5.0->qiskit-ibm-runtime) (2.33.2)\n",
            "Requirement already satisfied: typing-inspection>=0.4.0 in /usr/local/lib/python3.12/dist-packages (from pydantic>=2.5.0->qiskit-ibm-runtime) (0.4.2)\n",
            "Requirement already satisfied: six>=1.5 in /usr/local/lib/python3.12/dist-packages (from python-dateutil>=2.8.0->qiskit-ibm-runtime) (1.17.0)\n",
            "Requirement already satisfied: charset_normalizer<4,>=2 in /usr/local/lib/python3.12/dist-packages (from requests>=2.19->qiskit-ibm-runtime) (3.4.4)\n",
            "Requirement already satisfied: idna<4,>=2.5 in /usr/local/lib/python3.12/dist-packages (from requests>=2.19->qiskit-ibm-runtime) (3.11)\n",
            "Requirement already satisfied: certifi>=2017.4.17 in /usr/local/lib/python3.12/dist-packages (from requests>=2.19->qiskit-ibm-runtime) (2025.10.5)\n",
            "Requirement already satisfied: cryptography>=1.3 in /usr/local/lib/python3.12/dist-packages (from requests-ntlm>=1.1.0->qiskit-ibm-runtime) (43.0.3)\n",
            "Requirement already satisfied: pyspnego>=0.4.0 in /usr/local/lib/python3.12/dist-packages (from requests-ntlm>=1.1.0->qiskit-ibm-runtime) (0.12.0)\n",
            "Requirement already satisfied: pandas>=1.2 in /usr/local/lib/python3.12/dist-packages (from seaborn>=0.9.0->qiskit[visualization]) (2.2.2)\n",
            "Requirement already satisfied: mpmath<1.4,>=1.1.0 in /usr/local/lib/python3.12/dist-packages (from sympy>=1.3->qiskit[visualization]) (1.3.0)\n",
            "Requirement already satisfied: cffi>=1.12 in /usr/local/lib/python3.12/dist-packages (from cryptography>=1.3->requests-ntlm>=1.1.0->qiskit-ibm-runtime) (2.0.0)\n",
            "Requirement already satisfied: PyJWT<3.0.0,>=2.10.1 in /usr/local/lib/python3.12/dist-packages (from ibm_cloud_sdk_core<4.0.0,>=3.24.2->ibm-platform-services>=0.22.6->qiskit-ibm-runtime) (2.10.1)\n",
            "Requirement already satisfied: pytz>=2020.1 in /usr/local/lib/python3.12/dist-packages (from pandas>=1.2->seaborn>=0.9.0->qiskit[visualization]) (2025.2)\n",
            "Requirement already satisfied: tzdata>=2022.7 in /usr/local/lib/python3.12/dist-packages (from pandas>=1.2->seaborn>=0.9.0->qiskit[visualization]) (2025.2)\n",
            "Requirement already satisfied: pycparser in /usr/local/lib/python3.12/dist-packages (from cffi>=1.12->cryptography>=1.3->requests-ntlm>=1.1.0->qiskit-ibm-runtime) (2.23)\n"
          ]
        }
      ],
      "source": [
        "!pip install qiskit[visualization] qiskit-ibm-runtime qiskit-aer qiskit_qasm3_import\n",
        "\n",
        "import numpy as np\n",
        "from qiskit import QuantumCircuit\n",
        "from qiskit.quantum_info import Pauli, SparsePauliOp, Statevector\n",
        "from qiskit.visualization import plot_histogram, plot_bloch_multivector\n",
        "from qiskit_aer import AerSimulator\n",
        "from qiskit.circuit import Parameter, ParameterVector\n",
        "import qiskit.qasm3\n",
        "from qiskit_ibm_runtime.fake_provider import FakeVigoV2\n",
        "from qiskit.transpiler.preset_passmanagers import generate_preset_pass_manager\n",
        "from qiskit_ibm_runtime import SamplerV2 as Sampler, EstimatorV2 as Estimator, QiskitRuntimeService\n",
        "from qiskit.circuit import QuantumRegister, ClassicalRegister\n",
        "from qiskit.circuit.library import RXGate\n",
        "from qiskit.circuit.library import CCXGate"
      ]
    },
    {
      "cell_type": "code",
      "source": [
        "def input_board():\n",
        "    print(\"Enter your Battleship grid row-by-row.\")\n",
        "\n",
        "    size = 5\n",
        "    board = []\n",
        "\n",
        "    print(\"\\nEnter each row, separated by spaces:\")\n",
        "    for _ in range(size):\n",
        "        row = input().split()\n",
        "        row = [cell for cell in row]\n",
        "        board.append(row)\n",
        "\n",
        "    return board\n",
        "\n",
        "\n",
        "def print_board(board, size, reveal=False):\n",
        "    for r in range(size):\n",
        "        display_row = []\n",
        "        for c in range(size):\n",
        "            if reveal:\n",
        "                display_row.append(board[r][c])\n",
        "            else:\n",
        "                display_row.append(\"X\" if board[r][c] == '1' else \".\")\n",
        "        print(\" \".join(display_row))\n",
        "    print()\n",
        "\n",
        "board = input_board()"
      ],
      "metadata": {
        "colab": {
          "base_uri": "https://localhost:8080/"
        },
        "id": "-qrhPmVO86y5",
        "outputId": "db87e519-1e83-43ee-931d-942eff4baabb"
      },
      "execution_count": null,
      "outputs": [
        {
          "name": "stdout",
          "output_type": "stream",
          "text": [
            "Enter your Battleship grid row-by-row.\n",
            "\n",
            "Enter each row, separated by spaces:\n",
            "1 1 0 1 0\n",
            "0 0 1 0 1\n",
            "0 0 0 0 0 \n",
            "1 1 1 1 1\n",
            "0 1 0 1 1\n"
          ]
        }
      ]
    },
    {
      "cell_type": "code",
      "source": [
        "def classical_brute_force(board, size):\n",
        "  score = 0\n",
        "  explosions = 0\n",
        "  ships_total = sum(row.count(\"1\") for row in board)\n",
        "\n",
        "  for r in range(size):\n",
        "      for c in range(size):\n",
        "        if board[c][r] == \"1\":\n",
        "            explosions += 1\n",
        "        else:\n",
        "            score += 1\n",
        "  return score, explosions\n",
        "\n",
        "print(\"input board:\")\n",
        "print_board(board, 5)\n",
        "brute_force, explosions = classical_brute_force(board, 5)\n",
        "print(\"Classical Minesweeper score:\")\n",
        "print(brute_force)\n",
        "print(\"Exploded bombs:\")\n",
        "print(explosions)"
      ],
      "metadata": {
        "colab": {
          "base_uri": "https://localhost:8080/"
        },
        "id": "nn79fHTBCU40",
        "outputId": "9ea4f493-adf6-4998-a2aa-f256fd4429a5"
      },
      "execution_count": 218,
      "outputs": [
        {
          "output_type": "stream",
          "name": "stdout",
          "text": [
            "input board:\n",
            "X X . X .\n",
            ". . X . X\n",
            ". . . . .\n",
            "X X X X X\n",
            ". X . X X\n",
            "\n",
            "Classical Minesweeper score:\n",
            "12\n",
            "Exploded bombs:\n",
            "13\n"
          ]
        }
      ]
    },
    {
      "cell_type": "code",
      "source": [
        "def test_primitives(cycles,bomb: bool,shots=1000,show=False):\n",
        "  if not bomb:\n",
        "    return (0, 0, 0)\n",
        "  theta = np.pi / cycles\n",
        "\n",
        "  qr = QuantumRegister(3, 'q')\n",
        "  cr = ClassicalRegister(cycles + 1, 'c')\n",
        "  qc = QuantumCircuit(qr, cr)\n",
        "\n",
        "  qc.h(qr[0])\n",
        "\n",
        "  for cycle in range(cycles - 1):\n",
        "    qc.append(RXGate(theta), [qr[1]])\n",
        "    qc.ccx(qr[0], qr[1], qr[2])\n",
        "    qc.measure(qr[2], cr[cycle])\n",
        "\n",
        "    if cycle < cycles - 2:\n",
        "        qc.reset(qr[2])\n",
        "\n",
        "  qc.append(RXGate(theta), [qr[1]])\n",
        "  qc.measure(qr[1], cr[cycles - 1])\n",
        "  qc.measure(qr[0], cr[cycles])\n",
        "\n",
        "  simulator = AerSimulator()\n",
        "  job = simulator.run(qc, shots=shots)\n",
        "  result = job.result()\n",
        "  counts = result.get_counts(qc)\n",
        "\n",
        "  if show:\n",
        "    display(qc.draw('mpl'))\n",
        "    display(plot_histogram(counts))\n",
        "\n",
        "  safe_detections = 0\n",
        "  bomb_detections = 0\n",
        "  bomb_explosions = 0\n",
        "\n",
        "  results = sorted(counts.keys())\n",
        "\n",
        "  for r in results:\n",
        "    for i in range(2,cycles):\n",
        "      if int(r[i]) == 1:\n",
        "        bomb_explosions += 1\n",
        "        break\n",
        "      if int(r[1]) == 0:\n",
        "        bomb_detections += 1\n",
        "      else:\n",
        "        safe_detections += 1\n",
        "\n",
        "  total_safe = safe_detections + bomb_detections\n",
        "\n",
        "  if total_safe > 0:\n",
        "    bomb_probability = bomb_detections / total_safe\n",
        "  else:\n",
        "    bomb_probability = 0\n",
        "\n",
        "  return (bomb_probability, bomb_detections, bomb_explosions)"
      ],
      "metadata": {
        "id": "F48SJZ4uwUgt"
      },
      "execution_count": 208,
      "outputs": []
    },
    {
      "cell_type": "code",
      "source": [
        "test_primitives(5, True, 1000, True)"
      ],
      "metadata": {
        "colab": {
          "base_uri": "https://localhost:8080/",
          "height": 807
        },
        "id": "n_jcrWSAwdQs",
        "outputId": "b384a889-2554-4219-e16a-943a17c22334"
      },
      "execution_count": 209,
      "outputs": [
        {
          "output_type": "display_data",
          "data": {
            "text/plain": [
              "<Figure size 1290.83x367.889 with 1 Axes>"
            ],
            "image/png": "[encoded data removed]"
          },
          "metadata": {}
        },
        {
          "output_type": "display_data",
          "data": {
            "text/plain": [
              "<Figure size 640x480 with 1 Axes>"
            ],
            "image/png": "[encoded data removed]"
          },
          "metadata": {}
        },
        {
          "output_type": "execute_result",
          "data": {
            "text/plain": [
              "(0.6842105263157895, 13, 13)"
            ]
          },
          "metadata": {},
          "execution_count": 209
        }
      ]
    },
    {
      "cell_type": "code",
      "source": [
        "def quantum_plan(board, size):\n",
        "  shots_per_cell = 1000\n",
        "  cycles = 100\n",
        "  total_bomb_explosions = 0\n",
        "  total_bomb_detections = 0\n",
        "\n",
        "  column_probs = []\n",
        "  for j in range(size):\n",
        "    has_ship = any(board[i][j] == '1' for i in range(size))\n",
        "    (prob, bomb_detections, bomb_explosions) = test_primitives(cycles, has_ship, shots=shots_per_cell)\n",
        "    column_probs.append(prob)\n",
        "    total_bomb_explosions += bomb_explosions\n",
        "    total_bomb_detections += bomb_detections\n",
        "\n",
        "  row_probs = []\n",
        "  for i in range(size):\n",
        "    has_ship = any(board[i][j] == '1' for j in range(size))\n",
        "    (prob, bomb_detections, bomb_explosions) = test_primitives(cycles, has_ship, shots=shots_per_cell)\n",
        "    row_probs.append(prob)\n",
        "    total_bomb_explosions += bomb_explosions\n",
        "    total_bomb_detections += bomb_detections\n",
        "\n",
        "  scores = [[0.0] * size for _ in range(size)]\n",
        "  for i in range(size):\n",
        "    if not any(board[i][c] == '1' for c in range(size)):\n",
        "      continue\n",
        "    for j in range(size):\n",
        "      if not any(board[r][j] == '1' for r in range(size)):\n",
        "        continue\n",
        "      scores[i][j] = (row_probs[i]+column_probs[j])\n",
        "\n",
        "  all_cells = []\n",
        "  for i in range(size):\n",
        "    for j in range(size):\n",
        "        all_cells.append((i, j, scores[i][j]))\n",
        "\n",
        "  all_cells_sorted = sorted(all_cells, key=lambda x: -x[2])\n",
        "\n",
        "\n",
        "  return {\n",
        "      'column_probs': column_probs,\n",
        "      'row_probs': row_probs,\n",
        "      'scores': scores,\n",
        "      'all_cells_sorted': all_cells_sorted,\n",
        "      'total_explosions': total_bomb_explosions,\n",
        "      'total_detections': total_bomb_detections\n",
        "  }\n"
      ],
      "metadata": {
        "id": "7wPgd0ypwXZ1"
      },
      "execution_count": 214,
      "outputs": []
    },
    {
      "cell_type": "code",
      "source": [
        "out = quantum_plan(board, 5)\n",
        "print(f\"Measurements: {10} (5 columns + 5 rows)\")\n",
        "\n",
        "actual_ships = [(i, j) for i in range(5) for j in range(5) if board[i][j] == '1']\n",
        "print(f\"Actual ships at: {actual_ships}\")\n",
        "\n",
        "candidates = out['all_cells_sorted'][:len(actual_ships)]\n",
        "\n",
        "correct_detections = []\n",
        "for candidate in candidates:\n",
        "  i, j, score = candidate\n",
        "  if board[i][j] == '1':\n",
        "    correct_detections.append((i, j, score))\n",
        "\n",
        "print(f\"Correctly identified ships: {len(candidates)}/{len(actual_ships)}\")\n",
        "for ship in correct_detections:\n",
        "  print(f\"  Ship at ({ship[0]},{ship[1]}) with score {ship[2]:.4f}\")\n",
        "\n",
        "print(f\"Total explosions: {out['total_explosions']}\")\n",
        "print(f\"Total detections: {out['total_detections']}\")\n"
      ],
      "metadata": {
        "colab": {
          "base_uri": "https://localhost:8080/"
        },
        "id": "9DUeZoyHEaKs",
        "outputId": "543a3e93-f5db-478b-a350-87b2cd605841"
      },
      "execution_count": 215,
      "outputs": [
        {
          "output_type": "stream",
          "name": "stdout",
          "text": [
            "Measurements: 10 (5 columns + 5 rows)\n",
            "Actual ships at: [(0, 0), (0, 1), (0, 3), (1, 2), (1, 4), (3, 0), (3, 1), (3, 2), (3, 3), (3, 4), (4, 1), (4, 3), (4, 4)]\n",
            "Correctly identified ships: 13/13\n",
            "  Ship at (4,1) with score 1.2287\n",
            "  Ship at (4,3) with score 1.1370\n",
            "  Ship at (0,1) with score 1.0917\n",
            "  Ship at (3,1) with score 1.0917\n",
            "  Ship at (0,0) with score 1.0484\n",
            "  Ship at (3,0) with score 1.0484\n",
            "  Ship at (0,3) with score 1.0000\n",
            "  Ship at (1,2) with score 1.0000\n",
            "Total explosions: 91\n",
            "Total detections: 1021\n"
          ]
        }
      ]
    },
    {
      "cell_type": "code",
      "source": [
        "Battleship_Score = (out['total_detections']/out['total_explosions']) * (10 / 25)\n",
        "print(f\"Battleship Score: {Battleship_Score}\")\n"
      ],
      "metadata": {
        "id": "VmlDiehAJLDa",
        "colab": {
          "base_uri": "https://localhost:8080/"
        },
        "outputId": "be3f5800-371e-4adf-b8f6-ea1d65a12668"
      },
      "execution_count": 216,
      "outputs": [
        {
          "output_type": "stream",
          "name": "stdout",
          "text": [
            "Battleship Score: 4.487912087912088\n"
          ]
        }
      ]
    },
    {
      "cell_type": "code",
      "source": [],
      "metadata": {
        "id": "C8akO6zAuvAW"
      },
      "execution_count": null,
      "outputs": []
    }
  ]
}